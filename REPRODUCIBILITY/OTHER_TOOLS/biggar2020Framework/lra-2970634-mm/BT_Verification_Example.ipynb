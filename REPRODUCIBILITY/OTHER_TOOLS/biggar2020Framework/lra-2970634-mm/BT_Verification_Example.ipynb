{
 "cells": [
  {
   "cell_type": "markdown",
   "metadata": {},
   "source": [
    "# A Framework for Verification of BTs using LTL: Execution Example"
   ]
  },
  {
   "cell_type": "markdown",
   "metadata": {},
   "source": [
    "O. Biggar and M. Zamani"
   ]
  },
  {
   "cell_type": "markdown",
   "metadata": {},
   "source": [
    "Here we present the execution of the code for the example presented in A Framework for Formal Verification of Behavior Trees using Linear Temporal Logic. The implementation here is basic and not optimised---the point of this example is to show clearly that the ideas presented in the paper can be easily transferred into a working implementation. The detailed discussion of the algorithm and the ideas behind the example are omitted here because they are presented in the paper itself."
   ]
  },
  {
   "cell_type": "code",
   "execution_count": 1,
   "metadata": {},
   "outputs": [],
   "source": [
    "from bt_verification import Behaviour, combine, entails, preconditions\n",
    "import spot\n",
    "spot.setup()"
   ]
  },
  {
   "cell_type": "markdown",
   "metadata": {},
   "source": [
    "Here we create some behaviors, as presented in Table 1. The arguments of this constructor are: name, success conditions, failure conditions, guarantee. We use Spot's LTL syntax: `G` globally (always), `F` eventually, `X` next, `!` Boolean not, `&` Boolean and, `|` Boolean or and `->` as implication."
   ]
  },
  {
   "cell_type": "code",
   "execution_count": 2,
   "metadata": {},
   "outputs": [],
   "source": [
    "send = Behaviour('send','false','!data','F(sent & !data)')\n",
    "panels = Behaviour('panels','false','false','charge & (day -> F!lowpower)')\n",
    "hibernate = Behaviour('hibernate','false','false','hibernating')\n",
    "getdata = Behaviour('getData','data','false','Fdata')"
   ]
  },
  {
   "cell_type": "markdown",
   "metadata": {},
   "source": [
    "We also construct a behavior for the environment, `E`."
   ]
  },
  {
   "cell_type": "code",
   "execution_count": 3,
   "metadata": {},
   "outputs": [],
   "source": [
    "E = Behaviour('env','false','false',\"\"\"GFday & FG!storm & (FGlowpower | FG!lowpower)\n",
    "              & (dead -> (lowpower & !(charge | hibernating))) & (damaged -> (storm & !hibernating))\"\"\")"
   ]
  },
  {
   "cell_type": "markdown",
   "metadata": {},
   "source": [
    "Now we use the operators defined in the paper to construct a behavior modelling the entire tree `T`, which we now call `B`. For this we use the `combine` function, which takes a string giving the structure of the tree and a list of behaviors contained in the tree. Behaviors modelling conditions are implicitly created where necessary."
   ]
  },
  {
   "cell_type": "code",
   "execution_count": 4,
   "metadata": {},
   "outputs": [],
   "source": [
    "B = combine('(lowpower->panels)?(storm->hibernate)?(getData->send)',\n",
    "            [panels,hibernate,getdata,send])"
   ]
  },
  {
   "cell_type": "markdown",
   "metadata": {},
   "source": [
    "Here we construct formulas to give the sets of logical runs of `B` and `E`. Also, we construct the formula representing the desired specification."
   ]
  },
  {
   "cell_type": "code",
   "execution_count": 5,
   "metadata": {},
   "outputs": [],
   "source": [
    "log_run_B = spot.formula.G(spot.formula.Or((B.success,B.failure,B.guarantee)))\n",
    "log_run_E = spot.formula.G(spot.formula.Or((E.success,E.failure,E.guarantee)))\n",
    "specification = spot.formula('G!damaged & G!dead & Fsent')"
   ]
  },
  {
   "cell_type": "markdown",
   "metadata": {},
   "source": [
    "Now we need only check that `log_run_B & log_run_E` entails `specification`, which is done with the following function `entails`."
   ]
  },
  {
   "cell_type": "code",
   "execution_count": 27,
   "metadata": {},
   "outputs": [
    {
     "name": "stdout",
     "output_type": "stream",
     "text": [
      "Not satisfied. One counterexample is\n",
      "Prefix:\n",
      "  0,2\n",
      "  |  charge & damaged & !dead & !hibernating & lowpower & storm\n",
      "  0,1\n",
      "  |  !damaged & data & !dead & !lowpower & !storm\n",
      "Cycle:\n",
      "  1,1\n",
      "  |  !damaged & data & !day & !dead & !lowpower & !storm\t{0}\n",
      "  1,1\n",
      "  |  !damaged & !data & day & !dead & !lowpower & !sent & !storm\t{2}\n",
      "  1,1\n",
      "  |  !damaged & !data & !day & !dead & !lowpower & sent & !storm\t{1}\n",
      "  3,1\n",
      "  |  !damaged & data & !day & !dead & !lowpower & !storm\t{0}\n",
      "\n"
     ]
    },
    {
     "data": {
      "text/plain": [
       "False"
      ]
     },
     "execution_count": 27,
     "metadata": {},
     "output_type": "execute_result"
    }
   ],
   "source": [
    "entails(spot.formula.And((log_run_B,log_run_E)),specification)"
   ]
  },
  {
   "cell_type": "markdown",
   "metadata": {},
   "source": [
    "By observing the generated counterexample, we note that the robot is `damaged` as `lowpower` and `storm` are simultaneously true in the initial state but the robot chooses to charge rather than hibernate. To correct this, we swap the order of these two subtrees and try again:"
   ]
  },
  {
   "cell_type": "code",
   "execution_count": 28,
   "metadata": {},
   "outputs": [
    {
     "data": {
      "text/plain": [
       "True"
      ]
     },
     "execution_count": 28,
     "metadata": {},
     "output_type": "execute_result"
    }
   ],
   "source": [
    "B = combine('(storm->hibernate)?(lowpower->panels)?(getData->send)',\n",
    "            [panels,hibernate,getdata,send])\n",
    "\n",
    "log_run_B = spot.formula.G(spot.formula.Or((B.success,B.failure,B.guarantee)))\n",
    "log_run_E = spot.formula.G(spot.formula.Or((E.success,E.failure,E.guarantee)))\n",
    "specification = spot.formula('G!damaged & G!dead & Fsent')\n",
    "\n",
    "entails(spot.formula.And((log_run_B,log_run_E)),specification)"
   ]
  },
  {
   "cell_type": "markdown",
   "metadata": {},
   "source": [
    "So now this tree is correct. Now suppose we wish to replace the Action GetData with a new subtree. We introduce some new behaviors:"
   ]
  },
  {
   "cell_type": "code",
   "execution_count": 9,
   "metadata": {},
   "outputs": [],
   "source": [
    "gotobase = Behaviour('goToBase','atBase','false','FatBase & ((holding & Xholding)|(!holding & X!holding))')\n",
    "place = Behaviour('place','false','!holding','atBase -> F(!holding & sample)')\n",
    "getrock = Behaviour('getRock','holding','false','Fholding')\n",
    "analyse = Behaviour('analyse','false','!sample','!broken -> Fdata')\n",
    "fix = Behaviour('fix','!broken','false','F!broken')"
   ]
  },
  {
   "cell_type": "markdown",
   "metadata": {},
   "source": [
    "And combine these to form a new behavior `G`:"
   ]
  },
  {
   "cell_type": "code",
   "execution_count": 10,
   "metadata": {},
   "outputs": [
    {
     "name": "stdout",
     "output_type": "stream",
     "text": [
      "Success: data\n",
      "Failure: 0\n"
     ]
    }
   ],
   "source": [
    "G = combine('data?(((sample ? (((holding ? getRock) -> (atBase ? goToBase)) -> place)) -> ((!broken) ? fix)) -> analyse)',\n",
    "            [gotobase,place,getrock,analyse,fix])\n",
    "print(\"Success:\",G.success)\n",
    "print(\"Failure:\",G.failure)"
   ]
  },
  {
   "cell_type": "markdown",
   "metadata": {},
   "source": [
    "We observe that the success and failure conditions are the same as that of `getData`. Now, to check if the modified tree is still correct, we firstly check the safety conditions. To do this, we construct a behavior `idle` which is strongly refined by `G` and check if the safety conditions are still satisfied."
   ]
  },
  {
   "cell_type": "code",
   "execution_count": 11,
   "metadata": {},
   "outputs": [],
   "source": [
    "idle = Behaviour('idle','data','false','true')\n",
    "safety = spot.formula('G!damaged & G!dead')"
   ]
  },
  {
   "cell_type": "code",
   "execution_count": 13,
   "metadata": {},
   "outputs": [
    {
     "data": {
      "text/plain": [
       "True"
      ]
     },
     "execution_count": 13,
     "metadata": {},
     "output_type": "execute_result"
    }
   ],
   "source": [
    "B_id = combine('(storm->hibernate)?(lowpower->panels)?(idle->send)',\n",
    "                [panels,hibernate,send,idle])\n",
    "\n",
    "log_run_B_id = spot.formula.G(spot.formula.Or((B_id.success,B_id.failure,B_id.guarantee)))\n",
    "log_run_E = spot.formula.G(spot.formula.Or((E.success,E.failure,E.guarantee)))\n",
    "B_id_and_E = spot.formula.And((log_run_B_id,log_run_E))\n",
    "\n",
    "entails(B_id_and_E,safety)"
   ]
  },
  {
   "cell_type": "markdown",
   "metadata": {},
   "source": [
    "Now that we know that the safety conditions must hold in any strong refinement of `idle`. As any refinement of `getData` is a strong refinement of `idle`, we need only check whether the liveness condition `F sent` still holds. Firstly, we will prove that `FG prec_K` holds, and then show that `G` refines `getData`."
   ]
  },
  {
   "cell_type": "code",
   "execution_count": 14,
   "metadata": {},
   "outputs": [
    {
     "data": {
      "text/latex": [
       "$\\lnot \\mathit{lowpower} \\land \\lnot \\mathit{storm}$"
      ],
      "text/plain": [
       "spot.formula(\"!lowpower & !storm\")"
      ]
     },
     "execution_count": 14,
     "metadata": {},
     "output_type": "execute_result"
    }
   ],
   "source": [
    "preconditions('(storm->hibernate)?(lowpower->panels)?(getData->send)',\n",
    "              'getData',\n",
    "              [panels,hibernate,send,getdata])"
   ]
  },
  {
   "cell_type": "code",
   "execution_count": 15,
   "metadata": {},
   "outputs": [
    {
     "data": {
      "text/plain": [
       "True"
      ]
     },
     "execution_count": 15,
     "metadata": {},
     "output_type": "execute_result"
    }
   ],
   "source": [
    "entails(B_id_and_E,spot.formula('FG(!lowpower & !storm)'))"
   ]
  },
  {
   "cell_type": "markdown",
   "metadata": {},
   "source": [
    "Then, for any strong refinement of `idle`, we can conclude that `G!dead & G!dead & FG!lowpower & FG!storm` holds. Now to show that the modified tree with `G` works we need only show that `G` refines `getData`, when run against the environment. Many of the variables, such as `day`, `lowpower`, `storm`, etc. cannot affect whether this is true because they do not exist in the new behavior or the new specification `F data`, so we can remove them from the environment. We create a new environment behavior `E2`:"
   ]
  },
  {
   "cell_type": "code",
   "execution_count": 34,
   "metadata": {},
   "outputs": [],
   "source": [
    "E2 = Behaviour('env','false','false','FG broken | FG!broken')"
   ]
  },
  {
   "cell_type": "markdown",
   "metadata": {},
   "source": [
    "Now we need to check that this behavior satisfies `G(data | false | F data)`. If this is satisfied, then we can replace `getData` by `G` in the original tree above and it will remain correct, as proved in the paper."
   ]
  },
  {
   "cell_type": "code",
   "execution_count": 35,
   "metadata": {},
   "outputs": [],
   "source": [
    "log_run_G = spot.formula.G(spot.formula.Or((G.success,G.failure,G.guarantee)))\n",
    "log_run_E2 = spot.formula.G(spot.formula.Or((E2.success,E2.failure,E2.guarantee)))"
   ]
  },
  {
   "cell_type": "code",
   "execution_count": 36,
   "metadata": {},
   "outputs": [
    {
     "data": {
      "text/plain": [
       "True"
      ]
     },
     "execution_count": 36,
     "metadata": {},
     "output_type": "execute_result"
    }
   ],
   "source": [
    "entails(spot.formula.And((log_run_G,log_run_E2)),spot.formula('data | Fdata'))"
   ]
  },
  {
   "cell_type": "markdown",
   "metadata": {},
   "source": [
    "So `G` refines `getData`, as required."
   ]
  }
 ],
 "metadata": {
  "kernelspec": {
   "display_name": "Python 3",
   "language": "python",
   "name": "python3"
  },
  "language_info": {
   "codemirror_mode": {
    "name": "ipython",
    "version": 3
   },
   "file_extension": ".py",
   "mimetype": "text/x-python",
   "name": "python",
   "nbconvert_exporter": "python",
   "pygments_lexer": "ipython3",
   "version": "3.7.6"
  }
 },
 "nbformat": 4,
 "nbformat_minor": 2
}
